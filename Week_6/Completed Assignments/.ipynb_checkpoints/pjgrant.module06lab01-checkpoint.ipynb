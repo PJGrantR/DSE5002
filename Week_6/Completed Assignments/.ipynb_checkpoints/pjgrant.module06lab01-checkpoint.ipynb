{
 "cells": [
  {
   "cell_type": "markdown",
   "id": "868f20a6",
   "metadata": {},
   "source": [
    "# Assignment 6\n",
    "### PJ Grant\n",
    "### Dec 1st, 2024"
   ]
  },
  {
   "cell_type": "markdown",
   "id": "6b3cc38d",
   "metadata": {},
   "source": [
    "## Question 1\n",
    "1) import the random library. \n",
    "\n",
    "2) Use `random.seed(10)` to initialize a pseudorandom number generator. \n",
    "\n",
    "3) Create a list of 50 random integers from 0 to 15. Call this list `int_list`.\n",
    "\n",
    "4) Print the 10th and 30th elements of the list. \n",
    "\n",
    "You will need to use list comprehension to do this. The syntax for list comprehension is: <new_list> = `[<expression> for <item> in <iterable>]`. For this question your expression will be a randint generator from the random library and your iterable will be `range()`. Research the documentation on how to use both functions. "
   ]
  },
  {
   "cell_type": "code",
   "execution_count": 1,
   "id": "7abe6a13",
   "metadata": {},
   "outputs": [
    {
     "name": "stdout",
     "output_type": "stream",
     "text": [
      "The 10th number is 1, and the 30th number is 7\n"
     ]
    }
   ],
   "source": [
    "\n",
    "#1.1\n",
    "import random\n",
    "\n",
    "#1.2\n",
    "random.seed(10)\n",
    "\n",
    "#1.3\n",
    "int_list = [random.randint(0,15) for randnum in range(50)]\n",
    "\n",
    "#1.4\n",
    "print(f'The 10th number is {int_list[9]}, and the 30th number is {int_list[29]}')\n"
   ]
  },
  {
   "cell_type": "markdown",
   "id": "48d4d289",
   "metadata": {},
   "source": [
    "## Question 2\n",
    "1) import the string library.\n",
    "\n",
    "2) Create the string `az_upper` using `string.ascii_uppercase`. This is a single string of uppercase letters\n",
    "\n",
    "3) Create a list of each individual letter from the string. To do this you will need to iterate over the string and append each letter to the an empty list. Call this list `az_list`. \n",
    "\n",
    "4) Print the list.\n",
    "\n",
    "You will need to use a for-loop for this. The syntax for this for-loop should be: \n",
    "\n",
    "`for i in string>:\n",
    "   <list operation>\n",
    "`"
   ]
  },
  {
   "cell_type": "code",
   "execution_count": 2,
   "id": "e259b56f",
   "metadata": {},
   "outputs": [
    {
     "name": "stdout",
     "output_type": "stream",
     "text": [
      "['A', 'B', 'C', 'D', 'E', 'F', 'G', 'H', 'I', 'J', 'K', 'L', 'M', 'N', 'O', 'P', 'Q', 'R', 'S', 'T', 'U', 'V', 'W', 'X', 'Y', 'Z']\n"
     ]
    }
   ],
   "source": [
    "#2.1\n",
    "import string\n",
    "\n",
    "#2.2\n",
    "az_upper = string.ascii_uppercase\n",
    "\n",
    "#2.3\n",
    "az_list = []\n",
    "\n",
    "for letter in az_upper:\n",
    "    az_list.append(letter)\n",
    "\n",
    "#2.4\n",
    "print(az_list)\n"
   ]
  },
  {
   "cell_type": "markdown",
   "id": "5b775542",
   "metadata": {},
   "source": [
    "## Question 3\n",
    "1) Create a set from 1 to 5. Call this `set_1`.\n",
    "\n",
    "2) Create a set from int_list. Call this `set_2`.\n",
    "\n",
    "3) Create a set by finding the `symmetric_difference()` of `set_1` and `set_2`. Call this `set_3`.\n",
    "\n",
    "4) What is the length of all three sets?\n",
    "\n"
   ]
  },
  {
   "cell_type": "code",
   "execution_count": 3,
   "id": "4300df51",
   "metadata": {},
   "outputs": [
    {
     "name": "stdout",
     "output_type": "stream",
     "text": [
      "The length of set 1 is 5, set 2 is 15, and a set 3 is 12\n"
     ]
    }
   ],
   "source": [
    "#3.1\n",
    "set_1 = {1,2,3,4,5}\n",
    "\n",
    "#3.2\n",
    "set_2 = set(int_list)\n",
    "\n",
    "# 3.3\n",
    "set_3 = set_1.symmetric_difference(set_2)\n",
    "\n",
    "#3.4\n",
    "print(f\"The length of set 1 is {len(set_1)}, set 2 is {len(set_2)}, and a set 3 is {len(set_3)}\")\n"
   ]
  },
  {
   "cell_type": "markdown",
   "id": "7cd5e698",
   "metadata": {},
   "source": [
    "## Question 4\n",
    "1) Import default dict and set the default value to 'Not Present'. Call this dict_1.\n",
    "\n",
    "2) Add `int_list`, `set_2`, and `set_3` to `dict_1` using the object names as the key names. \n",
    "\n",
    "3) Create a new dictionary, `dict_2`, using curly bracket notation with `set_1` and `az_list` as the keys and values. \n",
    "\n",
    "4) Invoke the default value of `dict_1` by trying to access the key `az_list`. Create a new set named `set_4` from the value of `dict_1['az_list']`. What is the length of the difference between `dict_2['az_list']` and `set_4'?\n",
    "\n",
    "5) Update `dict_2` with `dict_1`. Print the value of the key `az_list` from `dict_2`. What happened?\n",
    "\n",
    "\n",
    "\n",
    "\n"
   ]
  },
  {
   "cell_type": "code",
   "execution_count": 4,
   "id": "6c85d4be",
   "metadata": {},
   "outputs": [
    {
     "name": "stdout",
     "output_type": "stream",
     "text": [
      "The length of the difference is 17\n",
      "Not Present\n"
     ]
    }
   ],
   "source": [
    "#4.1\n",
    "from collections import defaultdict\n",
    "def def_value():\n",
    "    return \"Not Present\"\n",
    "\n",
    "dict_1 = defaultdict(def_value)\n",
    "\n",
    "#4.2\n",
    "dict_1['int_list'] = int_list\n",
    "dict_1['set_2'] = set_2\n",
    "dict_1['set_3'] = set_3\n",
    "\n",
    "#4.3\n",
    "dict_2 = {'set_1': set_1, 'az_list': az_list}\n",
    "\n",
    "#4.4\n",
    "#converting to a set so it can be compared below\n",
    "set_4 = set(dict_1['az_list'])\n",
    "\n",
    "# Convert \"dict_2['az_list']\"to a set so we can compare\n",
    "difference = len(set(dict_2['az_list'])) - len(set_4)\n",
    "print(f\"The length of the difference is {difference}\")\n",
    "\n",
    "#4.5\n",
    "dict_2.update(dict_1)\n",
    "print(dict_2['az_list'])"
   ]
  }
 ],
 "metadata": {
  "kernelspec": {
   "display_name": "Python 3 (ipykernel)",
   "language": "python",
   "name": "python3"
  },
  "language_info": {
   "codemirror_mode": {
    "name": "ipython",
    "version": 3
   },
   "file_extension": ".py",
   "mimetype": "text/x-python",
   "name": "python",
   "nbconvert_exporter": "python",
   "pygments_lexer": "ipython3",
   "version": "3.12.7"
  }
 },
 "nbformat": 4,
 "nbformat_minor": 5
}
