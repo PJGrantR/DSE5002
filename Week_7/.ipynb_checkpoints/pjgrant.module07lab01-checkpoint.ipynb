{
 "cells": [
  {
   "cell_type": "markdown",
   "id": "5b5258fe",
   "metadata": {},
   "source": [
    "# Assignment 7\n",
    "### PJ Grant\n",
    "### 12/12/2024"
   ]
  },
  {
   "cell_type": "code",
   "execution_count": 1,
   "id": "2b80476e-6f1f-408d-b5c7-3ef0d4e337aa",
   "metadata": {},
   "outputs": [],
   "source": [
    "from collections import defaultdict"
   ]
  },
  {
   "cell_type": "markdown",
   "id": "c0ebfbde",
   "metadata": {},
   "source": [
    "## Question 1\n",
    "A palindrome is a word, phrase, or sequence that is the same spelled forward as it is backwards.\n",
    "Write a function using a for-loop to determine if a string is a palindrome. Your function should only have one argument. "
   ]
  },
  {
   "cell_type": "code",
   "execution_count": 2,
   "id": "7aeb7fb6-6e29-44e2-8031-37a17537822f",
   "metadata": {},
   "outputs": [],
   "source": [
    "def palindrome(string):\n",
    "    new_string = []\n",
    "    string = string.strip().lower()\n",
    "    \n",
    "    for letter in string:\n",
    "        new_string.append(letter)\n",
    "    \n",
    "    reversed_string = list(reversed(new_string))\n",
    "    \n",
    "    if new_string == reversed_string:\n",
    "        print(\"This string is a palindrome\")\n",
    "    else:\n",
    "        print(\"This string is not a palindrome\")"
   ]
  },
  {
   "cell_type": "code",
   "execution_count": 3,
   "id": "4fc01c60-c7e1-416c-bd00-3faef248406f",
   "metadata": {},
   "outputs": [
    {
     "name": "stdout",
     "output_type": "stream",
     "text": [
      "This string is a palindrome\n"
     ]
    }
   ],
   "source": [
    "string = 'civic'\n",
    "palindrome(string)"
   ]
  },
  {
   "cell_type": "markdown",
   "id": "c6916bad",
   "metadata": {},
   "source": [
    "## Question 2\n",
    "Write a function using a while-loop to determine if a string is a palindrome. Your function should only have one argument. "
   ]
  },
  {
   "cell_type": "code",
   "execution_count": 4,
   "id": "be170b6f-0b81-4496-acdc-ea45cce2d333",
   "metadata": {},
   "outputs": [],
   "source": [
    "def palindrome2(a_string):\n",
    "    reversed_string = []\n",
    "    a_string = a_string.strip().lower().replace(' ', '')\n",
    "    characters = len(a_string) - 1\n",
    "    count = 0\n",
    "    while count <= characters:\n",
    "        reversed_string.insert(0, a_string[count])\n",
    "        count = count + 1\n",
    "   \n",
    "    reversed_string = ''.join(reversed_string)\n",
    "    \n",
    "    if a_string  == reversed_string:\n",
    "        print(\"This string is a palindrome\")\n",
    "    else:\n",
    "        print(\"This string is not a palindrome\")    "
   ]
  },
  {
   "cell_type": "code",
   "execution_count": 5,
   "id": "8f9441ca-c3a9-4777-b62e-22b0604cede1",
   "metadata": {},
   "outputs": [
    {
     "name": "stdout",
     "output_type": "stream",
     "text": [
      "This string is a palindrome\n"
     ]
    }
   ],
   "source": [
    "a_string = 'Taco cat'\n",
    "palindrome2(a_string)"
   ]
  },
  {
   "cell_type": "markdown",
   "id": "d85c8321",
   "metadata": {},
   "source": [
    "## Question 3\n",
    "Two Sum - Write a function named two_sum()\n",
    "Given a vector of integers nums and an integer target, return indices of the two numbers such that they add\n",
    "up to target. You may assume that each input would have exactly one solution, and you may not use the same element\n",
    "twice. You can return the answer in any order.Use defaultdict and hash maps/tables to complete this problem. \n",
    "\n",
    "Example 1:\n",
    "Input: `nums = [2,7,11,15]`, target = 9 Output: `[0,1]` Explanation: Because `nums[0] + nums[1] == 9`, we\n",
    "return `[0, 1]`. \n",
    "\n",
    "Example 2:\n",
    "Input: `nums = [3,2,4]`, `target = 6 Output: [1,2]` \n",
    "\n",
    "Example 3:\n",
    "Input: `nums = [3,3]`, `target = 6 Output: [0,1]`\n",
    "\n",
    "Constraints:\n",
    "`2 <= nums.length <= 104 –109 <= nums[i] <= 109 –109 <= target <= 109` Only one valid answer exists."
   ]
  },
  {
   "cell_type": "code",
   "execution_count": 6,
   "id": "a785e77e-23a3-4a6c-b202-10d5c3ad7727",
   "metadata": {},
   "outputs": [],
   "source": [
    "def two_sum(numbers, target):\n",
    "    hash_map = defaultdict(int)\n",
    "    \n",
    "    for index, value in enumerate(numbers):\n",
    "        complement = target - value\n",
    "        \n",
    "        if complement in hash_map:\n",
    "            return [hash_map[complement], index]\n",
    "        \n",
    "        hash_map[value] = index   "
   ]
  },
  {
   "cell_type": "code",
   "execution_count": 7,
   "id": "50d47ae6-8ab8-4944-a17f-ee0b8e6ce15c",
   "metadata": {},
   "outputs": [
    {
     "data": {
      "text/plain": [
       "[4, 5]"
      ]
     },
     "execution_count": 7,
     "metadata": {},
     "output_type": "execute_result"
    }
   ],
   "source": [
    "numbers = [1,2,3,4,5,6]\n",
    "target = 11\n",
    "two_sum(numbers,target)"
   ]
  },
  {
   "cell_type": "markdown",
   "id": "9ec37669",
   "metadata": {},
   "source": [
    "## Question 4\n",
    "How is a negative index used in Python? Show an example"
   ]
  },
  {
   "cell_type": "markdown",
   "id": "5f6ecf17",
   "metadata": {},
   "source": [
    "Negative indexing allows you to iterate through a variable from right to left (in reverse order). If I wanted to find the last element in a list I would type list[-1]"
   ]
  },
  {
   "cell_type": "markdown",
   "id": "3128782b",
   "metadata": {},
   "source": [
    "## Question 5\n",
    "Check if two given strings are isomorphic to each other. Two strings str1 and str2 are called isomorphic if there is a one-to-one mapping possible for every character of str1 to every character of str2. And all occurrences of every character in ‘str1’ map to the same character in ‘str2’.\n",
    "\n",
    "`Input:  str1 = \"aab\", str2 = \"xxy\"`\n",
    "\n",
    "`Output: True`\n",
    "\n",
    "`'a' is mapped to 'x' and 'b' is mapped to 'y'.`\n",
    "\n",
    "`Input:  str1 = \"aab\", str2 = \"xyz\"`\n",
    "\n",
    "`Output: False`\n",
    "\n",
    "`One occurrence of 'a' in str1 has 'x' in str2 and other occurrence of 'a' has 'y'.`\n",
    "\n",
    "A Simple Solution is to consider every character of ‘str1’ and check if all occurrences of it map to the same character in ‘str2’. The time complexity of this solution is O(n*n).\n",
    "\n",
    "An Efficient Solution can solve this problem in O(n) time. The idea is to create an array to store mappings of processed characters. \n"
   ]
  },
  {
   "cell_type": "code",
   "execution_count": 8,
   "id": "53f3a149",
   "metadata": {},
   "outputs": [],
   "source": [
    "def isomporphic_check(string_1, string_2):\n",
    "    mapping = defaultdict()\n",
    "    \n",
    "    for index, letter in enumerate(string_1):\n",
    "        if letter in mapping:\n",
    "            if mapping[letter] != string_2[index]:\n",
    "                return False\n",
    "        elif string_2[index] not in mapping.values():\n",
    "            mapping[letter] = string_2[index]\n",
    "        else:\n",
    "            return False\n",
    "    return True"
   ]
  },
  {
   "cell_type": "code",
   "execution_count": 9,
   "id": "177e099c",
   "metadata": {},
   "outputs": [
    {
     "data": {
      "text/plain": [
       "True"
      ]
     },
     "execution_count": 9,
     "metadata": {},
     "output_type": "execute_result"
    }
   ],
   "source": [
    "string_1 = \"6677aa\"\n",
    "string_2 = \"aa7766\"\n",
    "isomporphic_check(string_1, string_2)"
   ]
  }
 ],
 "metadata": {
  "kernelspec": {
   "display_name": "Python 3 (ipykernel)",
   "language": "python",
   "name": "python3"
  },
  "language_info": {
   "codemirror_mode": {
    "name": "ipython",
    "version": 3
   },
   "file_extension": ".py",
   "mimetype": "text/x-python",
   "name": "python",
   "nbconvert_exporter": "python",
   "pygments_lexer": "ipython3",
   "version": "3.12.7"
  }
 },
 "nbformat": 4,
 "nbformat_minor": 5
}
